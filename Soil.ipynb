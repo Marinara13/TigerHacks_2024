{
 "cells": [
  {
   "cell_type": "code",
   "execution_count": null,
   "id": "893bdafa-c957-468a-80c1-6d243c1f63ea",
   "metadata": {},
   "outputs": [],
   "source": [
    "soil"
   ]
  }
 ],
 "metadata": {
  "kernelspec": {
   "display_name": "Python 3 (ipykernel)",
   "language": "python",
   "name": "python3"
  },
  "language_info": {
   "codemirror_mode": {
    "name": "ipython",
    "version": 3
   },
   "file_extension": ".py",
   "mimetype": "text/x-python",
   "name": "python",
   "nbconvert_exporter": "python",
   "pygments_lexer": "ipython3",
   "version": "3.12.4"
  }
 },
 "nbformat": 4,
 "nbformat_minor": 5
}
